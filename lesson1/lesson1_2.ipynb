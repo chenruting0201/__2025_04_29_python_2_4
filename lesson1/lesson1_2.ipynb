{
  "nbformat": 4,
  "nbformat_minor": 0,
  "metadata": {
    "colab": {
      "provenance": [],
      "authorship_tag": "ABX9TyP+pJw81hvMR7hb877lE4qB"
    },
    "kernelspec": {
      "name": "python3",
      "display_name": "Python 3"
    },
    "language_info": {
      "name": "python"
    }
  },
  "cells": [
    {
      "cell_type": "markdown",
      "source": [
        "### 這是我的第1個python程式\n",
        "\n",
        "這是第1堂課\n",
        "\n",
        "現在在學習基礎程式"
      ],
      "metadata": {
        "id": "b0DFeebedoUJ"
      }
    },
    {
      "cell_type": "code",
      "execution_count": null,
      "metadata": {
        "colab": {
          "base_uri": "https://localhost:8080/"
        },
        "id": "le8aVq9Pddp9",
        "outputId": "a4ce5cad-25eb-4477-ff7b-3743c56cff68"
      },
      "outputs": [
        {
          "output_type": "stream",
          "name": "stdout",
          "text": [
            "這個專案是lesson1_2.ipynb\n"
          ]
        }
      ],
      "source": [
        "print(\"這個專案是lesson1_2.ipynb\")"
      ]
    },
    {
      "cell_type": "markdown",
      "source": [
        "### 這是清單\n",
        "- 清單1\n",
        "- 清單2\n",
        "- 清單3"
      ],
      "metadata": {
        "id": "xRaYdU-oh6pt"
      }
    },
    {
      "cell_type": "markdown",
      "source": [
        "### 純值"
      ],
      "metadata": {
        "id": "YmCWswfDlnH-"
      }
    },
    {
      "cell_type": "code",
      "source": [
        "#數值,字串\n",
        "10 #int\n",
        "10.0 #float\n",
        "\"10.0\" #str"
      ],
      "metadata": {
        "colab": {
          "base_uri": "https://localhost:8080/",
          "height": 35
        },
        "id": "S_CYeo0Glra6",
        "outputId": "e750f295-cb97-4583-dc2f-ddfa37a230aa"
      },
      "execution_count": 4,
      "outputs": [
        {
          "output_type": "execute_result",
          "data": {
            "text/plain": [
              "'10.0'"
            ],
            "application/vnd.google.colaboratory.intrinsic+json": {
              "type": "string"
            }
          },
          "metadata": {},
          "execution_count": 4
        }
      ]
    },
    {
      "cell_type": "markdown",
      "source": [
        "### 數學運算子"
      ],
      "metadata": {
        "id": "7pLfNYfBpDcF"
      }
    },
    {
      "cell_type": "code",
      "source": [
        "5 + 8\n",
        "90 - 10\n",
        "4 * 7\n",
        "7 / 2\n",
        "7 // 2\n",
        "7 % 3\n",
        "3 ** 4\n",
        "99 ** 99"
      ],
      "metadata": {
        "colab": {
          "base_uri": "https://localhost:8080/"
        },
        "id": "SjyyCnkOpHEH",
        "outputId": "610fd14e-a988-4033-8ced-05e662149181"
      },
      "execution_count": 14,
      "outputs": [
        {
          "output_type": "execute_result",
          "data": {
            "text/plain": [
              "369729637649726772657187905628805440595668764281741102430259972423552570455277523421410650010128232727940978889548326540119429996769494359451621570193644014418071060667659301384999779999159200499899"
            ]
          },
          "metadata": {},
          "execution_count": 14
        }
      ]
    },
    {
      "cell_type": "markdown",
      "source": [
        "### 相同的數值類型才可以數學運算"
      ],
      "metadata": {
        "id": "30LWa0f5rOWJ"
      }
    },
    {
      "cell_type": "code",
      "source": [
        "5 + 8\n",
        "5.0 + 8.0\n",
        "5 + 8.0"
      ],
      "metadata": {
        "id": "kFyeweOfrkhw",
        "outputId": "d7c19fd4-ce97-46fe-8c5c-f324ac92eefa",
        "colab": {
          "base_uri": "https://localhost:8080/"
        }
      },
      "execution_count": 17,
      "outputs": [
        {
          "output_type": "execute_result",
          "data": {
            "text/plain": [
              "13.0"
            ]
          },
          "metadata": {},
          "execution_count": 17
        }
      ]
    },
    {
      "cell_type": "markdown",
      "source": [
        "### 字串和數值不可以運算"
      ],
      "metadata": {
        "id": "MxzQsCw7sgpp"
      }
    },
    {
      "cell_type": "code",
      "source": [
        "'5' + 8.0"
      ],
      "metadata": {
        "id": "WNsd8-34sL4b",
        "outputId": "6e40bcb5-1e1b-4e9e-bfd5-cd2a6dc59d7e",
        "colab": {
          "base_uri": "https://localhost:8080/",
          "height": 144
        }
      },
      "execution_count": 18,
      "outputs": [
        {
          "output_type": "error",
          "ename": "TypeError",
          "evalue": "can only concatenate str (not \"float\") to str",
          "traceback": [
            "\u001b[0;31m---------------------------------------------------------------------------\u001b[0m",
            "\u001b[0;31mTypeError\u001b[0m                                 Traceback (most recent call last)",
            "\u001b[0;32m<ipython-input-18-a794e273e178>\u001b[0m in \u001b[0;36m<cell line: 0>\u001b[0;34m()\u001b[0m\n\u001b[0;32m----> 1\u001b[0;31m \u001b[0;34m'5'\u001b[0m \u001b[0;34m+\u001b[0m \u001b[0;36m8.0\u001b[0m\u001b[0;34m\u001b[0m\u001b[0;34m\u001b[0m\u001b[0m\n\u001b[0m",
            "\u001b[0;31mTypeError\u001b[0m: can only concatenate str (not \"float\") to str"
          ]
        }
      ]
    },
    {
      "cell_type": "markdown",
      "source": [
        "### 字串和字串是(+)(*)連結"
      ],
      "metadata": {
        "id": "eeQykdEsso8i"
      }
    },
    {
      "cell_type": "code",
      "source": [
        "'5' + '8'\n",
        "'-' * 20"
      ],
      "metadata": {
        "id": "zEjmxqB1snJs",
        "outputId": "4405a40c-2ef8-4a8a-a0c9-2f03d5b6fc09",
        "colab": {
          "base_uri": "https://localhost:8080/",
          "height": 35
        }
      },
      "execution_count": 21,
      "outputs": [
        {
          "output_type": "execute_result",
          "data": {
            "text/plain": [
              "'--------------------'"
            ],
            "application/vnd.google.colaboratory.intrinsic+json": {
              "type": "string"
            }
          },
          "metadata": {},
          "execution_count": 21
        }
      ]
    }
  ]
}