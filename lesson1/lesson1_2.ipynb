{
  "nbformat": 4,
  "nbformat_minor": 0,
  "metadata": {
    "colab": {
      "provenance": [],
      "authorship_tag": "ABX9TyOW39NYxy6M+vxLD1h02Xh+"
    },
    "kernelspec": {
      "name": "python3",
      "display_name": "Python 3"
    },
    "language_info": {
      "name": "python"
    }
  },
  "cells": [
    {
      "cell_type": "markdown",
      "source": [
        "### 這是我的第1個python程式\n",
        "\n",
        "這是第1堂課\n",
        "\n",
        "現在在學習基礎程式"
      ],
      "metadata": {
        "id": "b0DFeebedoUJ"
      }
    },
    {
      "cell_type": "code",
      "execution_count": null,
      "metadata": {
        "colab": {
          "base_uri": "https://localhost:8080/"
        },
        "id": "le8aVq9Pddp9",
        "outputId": "a4ce5cad-25eb-4477-ff7b-3743c56cff68"
      },
      "outputs": [
        {
          "output_type": "stream",
          "name": "stdout",
          "text": [
            "這個專案是lesson1_2.ipynb\n"
          ]
        }
      ],
      "source": [
        "print(\"這個專案是lesson1_2.ipynb\")"
      ]
    },
    {
      "cell_type": "markdown",
      "source": [
        "### 這是清單\n",
        "- 清單1\n",
        "- 清單2\n",
        "- 清單3"
      ],
      "metadata": {
        "id": "xRaYdU-oh6pt"
      }
    },
    {
      "cell_type": "markdown",
      "source": [
        "### 純值"
      ],
      "metadata": {
        "id": "YmCWswfDlnH-"
      }
    },
    {
      "cell_type": "code",
      "source": [
        "#數值,字串\n",
        "10 #int\n",
        "10.0 #float\n",
        "\"10.0\" #str"
      ],
      "metadata": {
        "colab": {
          "base_uri": "https://localhost:8080/",
          "height": 35
        },
        "id": "S_CYeo0Glra6",
        "outputId": "e750f295-cb97-4583-dc2f-ddfa37a230aa"
      },
      "execution_count": 4,
      "outputs": [
        {
          "output_type": "execute_result",
          "data": {
            "text/plain": [
              "'10.0'"
            ],
            "application/vnd.google.colaboratory.intrinsic+json": {
              "type": "string"
            }
          },
          "metadata": {},
          "execution_count": 4
        }
      ]
    },
    {
      "cell_type": "markdown",
      "source": [
        "### 數學運算子"
      ],
      "metadata": {
        "id": "7pLfNYfBpDcF"
      }
    },
    {
      "cell_type": "code",
      "source": [
        "5 + 8\n",
        "90 - 10\n",
        "4 * 7\n",
        "7 / 2\n",
        "7 // 2\n",
        "7 % 3\n",
        "3 ** 4\n",
        "99 ** 99"
      ],
      "metadata": {
        "colab": {
          "base_uri": "https://localhost:8080/"
        },
        "id": "SjyyCnkOpHEH",
        "outputId": "610fd14e-a988-4033-8ced-05e662149181"
      },
      "execution_count": 14,
      "outputs": [
        {
          "output_type": "execute_result",
          "data": {
            "text/plain": [
              "369729637649726772657187905628805440595668764281741102430259972423552570455277523421410650010128232727940978889548326540119429996769494359451621570193644014418071060667659301384999779999159200499899"
            ]
          },
          "metadata": {},
          "execution_count": 14
        }
      ]
    },
    {
      "cell_type": "markdown",
      "source": [
        "### 相同的數值類型才可以數學運算"
      ],
      "metadata": {
        "id": "30LWa0f5rOWJ"
      }
    },
    {
      "cell_type": "code",
      "source": [
        "5 + 8\n",
        "5.0 + 8.0\n",
        "5 + 8.0"
      ],
      "metadata": {
        "colab": {
          "base_uri": "https://localhost:8080/"
        },
        "id": "kFyeweOfrkhw",
        "outputId": "d7c19fd4-ce97-46fe-8c5c-f324ac92eefa"
      },
      "execution_count": 17,
      "outputs": [
        {
          "output_type": "execute_result",
          "data": {
            "text/plain": [
              "13.0"
            ]
          },
          "metadata": {},
          "execution_count": 17
        }
      ]
    },
    {
      "cell_type": "markdown",
      "source": [
        "### 字串和數值不可以運算"
      ],
      "metadata": {
        "id": "MxzQsCw7sgpp"
      }
    },
    {
      "cell_type": "code",
      "source": [
        "'5' + 8.0"
      ],
      "metadata": {
        "colab": {
          "base_uri": "https://localhost:8080/",
          "height": 144
        },
        "id": "WNsd8-34sL4b",
        "outputId": "6e40bcb5-1e1b-4e9e-bfd5-cd2a6dc59d7e"
      },
      "execution_count": 18,
      "outputs": [
        {
          "output_type": "error",
          "ename": "TypeError",
          "evalue": "can only concatenate str (not \"float\") to str",
          "traceback": [
            "\u001b[0;31m---------------------------------------------------------------------------\u001b[0m",
            "\u001b[0;31mTypeError\u001b[0m                                 Traceback (most recent call last)",
            "\u001b[0;32m<ipython-input-18-a794e273e178>\u001b[0m in \u001b[0;36m<cell line: 0>\u001b[0;34m()\u001b[0m\n\u001b[0;32m----> 1\u001b[0;31m \u001b[0;34m'5'\u001b[0m \u001b[0;34m+\u001b[0m \u001b[0;36m8.0\u001b[0m\u001b[0;34m\u001b[0m\u001b[0;34m\u001b[0m\u001b[0m\n\u001b[0m",
            "\u001b[0;31mTypeError\u001b[0m: can only concatenate str (not \"float\") to str"
          ]
        }
      ]
    },
    {
      "cell_type": "markdown",
      "source": [
        "### 字串和字串是(+)(*)連結"
      ],
      "metadata": {
        "id": "eeQykdEsso8i"
      }
    },
    {
      "cell_type": "code",
      "source": [
        "'5' + '8'\n",
        "'-' * 20"
      ],
      "metadata": {
        "colab": {
          "base_uri": "https://localhost:8080/",
          "height": 35
        },
        "id": "zEjmxqB1snJs",
        "outputId": "4405a40c-2ef8-4a8a-a0c9-2f03d5b6fc09"
      },
      "execution_count": 21,
      "outputs": [
        {
          "output_type": "execute_result",
          "data": {
            "text/plain": [
              "'--------------------'"
            ],
            "application/vnd.google.colaboratory.intrinsic+json": {
              "type": "string"
            }
          },
          "metadata": {},
          "execution_count": 21
        }
      ]
    },
    {
      "cell_type": "code",
      "source": [
        "### 多個數學運算子\n",
        "\n",
        "3 + 5 + 10"
      ],
      "metadata": {
        "colab": {
          "base_uri": "https://localhost:8080/"
        },
        "id": "tFfg8uH8um8A",
        "outputId": "25b0d4ca-a60d-48c3-e16e-350220e65883"
      },
      "execution_count": 22,
      "outputs": [
        {
          "output_type": "execute_result",
          "data": {
            "text/plain": [
              "18"
            ]
          },
          "metadata": {},
          "execution_count": 22
        }
      ]
    },
    {
      "cell_type": "markdown",
      "source": [
        "### 數學運算子的優先順序\n",
        "- ()\n",
        "- \\**\n",
        "- \\* / % //\n",
        "- \\+ -\n",
        "- ="
      ],
      "metadata": {
        "id": "0soMLyOLvdXE"
      }
    },
    {
      "cell_type": "code",
      "source": [
        "2 + 3 * 4"
      ],
      "metadata": {
        "colab": {
          "base_uri": "https://localhost:8080/"
        },
        "id": "DprO3xVQv7rv",
        "outputId": "10e01a4c-204c-42de-cafa-03431d340996"
      },
      "execution_count": 23,
      "outputs": [
        {
          "output_type": "execute_result",
          "data": {
            "text/plain": [
              "14"
            ]
          },
          "metadata": {},
          "execution_count": 23
        }
      ]
    },
    {
      "cell_type": "code",
      "source": [
        "(2 + 3) * 4"
      ],
      "metadata": {
        "id": "iKo3rIskwBuz"
      },
      "execution_count": null,
      "outputs": []
    },
    {
      "cell_type": "code",
      "source": [
        "2 * (1 + 2) ** 2 - 2 ** 2 * 2"
      ],
      "metadata": {
        "colab": {
          "base_uri": "https://localhost:8080/"
        },
        "id": "TI5lONQwwJXe",
        "outputId": "a56e4766-2614-456d-908d-891297ec3425"
      },
      "execution_count": 24,
      "outputs": [
        {
          "output_type": "execute_result",
          "data": {
            "text/plain": [
              "10"
            ]
          },
          "metadata": {},
          "execution_count": 24
        }
      ]
    },
    {
      "cell_type": "markdown",
      "source": [
        "### python內建的功能(python內建的function)"
      ],
      "metadata": {
        "id": "JNWaNHXkw8hR"
      }
    },
    {
      "cell_type": "code",
      "source": [
        "print(10 + float('10.0'))\n",
        "print(10 + float('10.0') + int('10'))"
      ],
      "metadata": {
        "colab": {
          "base_uri": "https://localhost:8080/"
        },
        "id": "u-2p9VFexF_1",
        "outputId": "b56ef786-78f2-4f67-e09f-b8a449150c62"
      },
      "execution_count": 28,
      "outputs": [
        {
          "output_type": "stream",
          "name": "stdout",
          "text": [
            "20.0\n",
            "30.0\n"
          ]
        }
      ]
    },
    {
      "cell_type": "code",
      "source": [
        "print(3)\n",
        "print(10.0)\n",
        "print('abc')\n",
        "print('robert')\n",
        "print(3, 10.0, 'abc', 'robert', 90)"
      ],
      "metadata": {
        "id": "DBh-WE1u03PF",
        "outputId": "b6b27914-0ae5-420a-f7a7-d8767f2634b3",
        "colab": {
          "base_uri": "https://localhost:8080/"
        }
      },
      "execution_count": 35,
      "outputs": [
        {
          "output_type": "stream",
          "name": "stdout",
          "text": [
            "3\n",
            "10.0\n",
            "abc\n",
            "robert\n",
            "3 10.0 abc robert 90\n"
          ]
        }
      ]
    },
    {
      "cell_type": "code",
      "source": [
        "'robert'"
      ],
      "metadata": {
        "id": "-GJsgEPZ1SUn",
        "outputId": "987130ea-488a-4418-915b-9c065f8aba51",
        "colab": {
          "base_uri": "https://localhost:8080/",
          "height": 35
        }
      },
      "execution_count": 34,
      "outputs": [
        {
          "output_type": "execute_result",
          "data": {
            "text/plain": [
              "'robert'"
            ],
            "application/vnd.google.colaboratory.intrinsic+json": {
              "type": "string"
            }
          },
          "metadata": {},
          "execution_count": 34
        }
      ]
    }
  ]
}