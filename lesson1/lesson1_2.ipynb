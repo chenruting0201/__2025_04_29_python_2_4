{
  "nbformat": 4,
  "nbformat_minor": 0,
  "metadata": {
    "colab": {
      "provenance": [],
      "authorship_tag": "ABX9TyMCre0H3GQYWnp0WtmNfW5H"
    },
    "kernelspec": {
      "name": "python3",
      "display_name": "Python 3"
    },
    "language_info": {
      "name": "python"
    }
  },
  "cells": [
    {
      "cell_type": "markdown",
      "source": [
        "### 這是我的第1個python程式\n",
        "\n",
        "這是第1堂課\n",
        "\n",
        "現在在學習基礎程式"
      ],
      "metadata": {
        "id": "b0DFeebedoUJ"
      }
    },
    {
      "cell_type": "code",
      "execution_count": null,
      "metadata": {
        "colab": {
          "base_uri": "https://localhost:8080/"
        },
        "id": "le8aVq9Pddp9",
        "outputId": "a4ce5cad-25eb-4477-ff7b-3743c56cff68"
      },
      "outputs": [
        {
          "output_type": "stream",
          "name": "stdout",
          "text": [
            "這個專案是lesson1_2.ipynb\n"
          ]
        }
      ],
      "source": [
        "print(\"這個專案是lesson1_2.ipynb\")"
      ]
    },
    {
      "cell_type": "markdown",
      "source": [
        "### 這是清單\n",
        "- 清單1\n",
        "- 清單2\n",
        "- 清單3"
      ],
      "metadata": {
        "id": "xRaYdU-oh6pt"
      }
    },
    {
      "cell_type": "markdown",
      "source": [
        "### 純值"
      ],
      "metadata": {
        "id": "YmCWswfDlnH-"
      }
    },
    {
      "cell_type": "code",
      "source": [
        "#數值,字串\n",
        "10 #int\n",
        "10.0 #float\n",
        "\"10.0\" #str"
      ],
      "metadata": {
        "id": "S_CYeo0Glra6",
        "outputId": "e750f295-cb97-4583-dc2f-ddfa37a230aa",
        "colab": {
          "base_uri": "https://localhost:8080/",
          "height": 35
        }
      },
      "execution_count": 4,
      "outputs": [
        {
          "output_type": "execute_result",
          "data": {
            "text/plain": [
              "'10.0'"
            ],
            "application/vnd.google.colaboratory.intrinsic+json": {
              "type": "string"
            }
          },
          "metadata": {},
          "execution_count": 4
        }
      ]
    }
  ]
}