{
  "nbformat": 4,
  "nbformat_minor": 0,
  "metadata": {
    "colab": {
      "provenance": [],
      "authorship_tag": "ABX9TyPC3tt8Lbfgrf2qFF4b1ltA"
    },
    "kernelspec": {
      "name": "python3",
      "display_name": "Python 3"
    },
    "language_info": {
      "name": "python"
    }
  },
  "cells": [
    {
      "cell_type": "markdown",
      "source": [
        "### 這是我的第1個python程式\n",
        "\n",
        "這是第1堂課\n",
        "\n",
        "現在在學習基礎程式"
      ],
      "metadata": {
        "id": "b0DFeebedoUJ"
      }
    },
    {
      "cell_type": "code",
      "execution_count": null,
      "metadata": {
        "colab": {
          "base_uri": "https://localhost:8080/"
        },
        "id": "le8aVq9Pddp9",
        "outputId": "a4ce5cad-25eb-4477-ff7b-3743c56cff68"
      },
      "outputs": [
        {
          "output_type": "stream",
          "name": "stdout",
          "text": [
            "這個專案是lesson1_2.ipynb\n"
          ]
        }
      ],
      "source": [
        "print(\"這個專案是lesson1_2.ipynb\")"
      ]
    },
    {
      "cell_type": "markdown",
      "source": [
        "### 這是清單\n",
        "- 清單1\n",
        "- 清單2\n",
        "- 清單3"
      ],
      "metadata": {
        "id": "xRaYdU-oh6pt"
      }
    },
    {
      "cell_type": "markdown",
      "source": [
        "### 純值"
      ],
      "metadata": {
        "id": "YmCWswfDlnH-"
      }
    },
    {
      "cell_type": "code",
      "source": [
        "#數值,字串\n",
        "10 #int\n",
        "10.0 #float\n",
        "\"10.0\" #str"
      ],
      "metadata": {
        "colab": {
          "base_uri": "https://localhost:8080/",
          "height": 35
        },
        "id": "S_CYeo0Glra6",
        "outputId": "e750f295-cb97-4583-dc2f-ddfa37a230aa"
      },
      "execution_count": 4,
      "outputs": [
        {
          "output_type": "execute_result",
          "data": {
            "text/plain": [
              "'10.0'"
            ],
            "application/vnd.google.colaboratory.intrinsic+json": {
              "type": "string"
            }
          },
          "metadata": {},
          "execution_count": 4
        }
      ]
    },
    {
      "cell_type": "markdown",
      "source": [
        "### 數學運算子"
      ],
      "metadata": {
        "id": "7pLfNYfBpDcF"
      }
    },
    {
      "cell_type": "code",
      "source": [
        "5 + 8\n",
        "90 - 10\n",
        "4 * 7\n",
        "7 / 2\n",
        "7 // 2\n",
        "7 % 3\n",
        "3 ** 4\n",
        "99 ** 99"
      ],
      "metadata": {
        "id": "SjyyCnkOpHEH",
        "outputId": "610fd14e-a988-4033-8ced-05e662149181",
        "colab": {
          "base_uri": "https://localhost:8080/"
        }
      },
      "execution_count": 14,
      "outputs": [
        {
          "output_type": "execute_result",
          "data": {
            "text/plain": [
              "369729637649726772657187905628805440595668764281741102430259972423552570455277523421410650010128232727940978889548326540119429996769494359451621570193644014418071060667659301384999779999159200499899"
            ]
          },
          "metadata": {},
          "execution_count": 14
        }
      ]
    }
  ]
}