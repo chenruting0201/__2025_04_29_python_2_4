{
  "nbformat": 4,
  "nbformat_minor": 0,
  "metadata": {
    "colab": {
      "provenance": [],
      "authorship_tag": "ABX9TyNamGqY+5kVwqpeolDcQ89+"
    },
    "kernelspec": {
      "name": "python3",
      "display_name": "Python 3"
    },
    "language_info": {
      "name": "python"
    }
  },
  "cells": [
    {
      "cell_type": "markdown",
      "source": [
        "### 這是我的第1個python程式\n",
        "\n",
        "這是第1堂課\n",
        "\n",
        "現在在學習基礎程式"
      ],
      "metadata": {
        "id": "b0DFeebedoUJ"
      }
    },
    {
      "cell_type": "code",
      "execution_count": 1,
      "metadata": {
        "colab": {
          "base_uri": "https://localhost:8080/"
        },
        "id": "le8aVq9Pddp9",
        "outputId": "a4ce5cad-25eb-4477-ff7b-3743c56cff68"
      },
      "outputs": [
        {
          "output_type": "stream",
          "name": "stdout",
          "text": [
            "這個專案是lesson1_2.ipynb\n"
          ]
        }
      ],
      "source": [
        "print(\"這個專案是lesson1_2.ipynb\")"
      ]
    }
  ]
}