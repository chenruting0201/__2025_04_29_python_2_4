{
 "cells": [
  {
   "cell_type": "markdown",
   "id": "c2b5bf13",
   "metadata": {},
   "source": [
    "### list_comprehension(快速建立list)\n",
    "- [ expression for item in iterable ]"
   ]
  },
  {
   "cell_type": "code",
   "execution_count": null,
   "id": "7a85b058",
   "metadata": {},
   "outputs": [],
   "source": [
    "for i in range(1,11):\n",
    "    print(i)"
   ]
  },
  {
   "cell_type": "code",
   "execution_count": 4,
   "id": "e926876f",
   "metadata": {},
   "outputs": [
    {
     "data": {
      "text/plain": [
       "[2, 4, 6, 8, 10, 12, 14, 16, 18, 20]"
      ]
     },
     "execution_count": 4,
     "metadata": {},
     "output_type": "execute_result"
    }
   ],
   "source": [
    "[i*2 for i in range(1, 11)]"
   ]
  },
  {
   "cell_type": "markdown",
   "id": "37484361",
   "metadata": {},
   "source": [
    "- [ expression for item in iterable if 條件式]\n",
    "\n",
    "⬇︎"
   ]
  },
  {
   "cell_type": "code",
   "execution_count": 6,
   "id": "cc21352f",
   "metadata": {},
   "outputs": [
    {
     "data": {
      "text/plain": [
       "[2, 6, 10, 14, 18]"
      ]
     },
     "execution_count": 6,
     "metadata": {},
     "output_type": "execute_result"
    }
   ],
   "source": [
    "[i*2 for i in range(1, 11) if i % 2 == 1]"
   ]
  },
  {
   "cell_type": "markdown",
   "id": "34e20372",
   "metadata": {},
   "source": [
    "### map(),filter"
   ]
  },
  {
   "cell_type": "code",
   "execution_count": null,
   "id": "c2618fd6",
   "metadata": {},
   "outputs": [
    {
     "data": {
      "text/plain": [
       "[{'姓名': '張xx', 'age': 35, 'score': 256},\n",
       " {'姓名': '王xx', 'age': 45, 'score': 278},\n",
       " {'姓名': '李xx', 'age': 37, 'score': 291}]"
      ]
     },
     "execution_count": 10,
     "metadata": {},
     "output_type": "execute_result"
    }
   ],
   "source": [
    "#記憶體內的表格資料\n",
    "\n",
    "students = [{\"姓名\":\"張xx\",\"age\":35,\"score\":256}, \n",
    "            {\"姓名\":\"王xx\",\"age\":45,\"score\":278}, \n",
    "            {\"姓名\":\"李xx\",\"age\":37,\"score\":291}]\n",
    "students"
   ]
  },
  {
   "cell_type": "code",
   "execution_count": 11,
   "id": "f40f8819",
   "metadata": {},
   "outputs": [
    {
     "name": "stdout",
     "output_type": "stream",
     "text": [
      "{'姓名': '張xx', 'age': 35, 'score': 256}\n",
      "{'姓名': '王xx', 'age': 45, 'score': 278}\n",
      "{'姓名': '李xx', 'age': 37, 'score': 291}\n"
     ]
    }
   ],
   "source": [
    "for student in students:\n",
    "    print(student)"
   ]
  },
  {
   "cell_type": "code",
   "execution_count": 12,
   "id": "54bfa867",
   "metadata": {},
   "outputs": [],
   "source": [
    "students = [\n",
    "    {\"name\": \"Alice\", \"Chinese\": 85, \"English\": 92, \"Math\": 78},\n",
    "    {\"name\": \"Bob\", \"Chinese\": 75, \"English\": 88, \"Math\": 90},\n",
    "    {\"name\": \"Charlie\", \"Chinese\": 90, \"English\": 85, \"Math\": 85},\n",
    "    {\"name\": \"David\", \"Chinese\": 60, \"English\": 70, \"Math\": 80},\n",
    "    {\"name\": \"Eva\", \"Chinese\": 95, \"English\": 98, \"Math\": 92},\n",
    "    {\"name\": \"Frank\", \"Chinese\": 70, \"English\": 75, \"Math\": 68},\n",
    "    {\"name\": \"Grace\", \"Chinese\": 88, \"English\": 82, \"Math\": 85},\n",
    "    {\"name\": \"Helen\", \"Chinese\": 92, \"English\": 90, \"Math\": 94},\n",
    "    {\"name\": \"Ian\", \"Chinese\": 78, \"English\": 80, \"Math\": 72},\n",
    "    {\"name\": \"Jane\", \"Chinese\": 85, \"English\": 87, \"Math\": 89}\n",
    "]"
   ]
  },
  {
   "cell_type": "code",
   "execution_count": 14,
   "id": "031c0a02",
   "metadata": {},
   "outputs": [
    {
     "name": "stdout",
     "output_type": "stream",
     "text": [
      "{'name': 'Alice', 'Chinese': 85, 'English': 92, 'Math': 78}\n",
      "{'name': 'Charlie', 'Chinese': 90, 'English': 85, 'Math': 85}\n",
      "{'name': 'Eva', 'Chinese': 95, 'English': 98, 'Math': 92}\n",
      "{'name': 'Grace', 'Chinese': 88, 'English': 82, 'Math': 85}\n",
      "{'name': 'Helen', 'Chinese': 92, 'English': 90, 'Math': 94}\n",
      "{'name': 'Jane', 'Chinese': 85, 'English': 87, 'Math': 89}\n"
     ]
    }
   ],
   "source": [
    "for student in students:\n",
    "    if student['Chinese'] >= 80:\n",
    "        print(student)"
   ]
  },
  {
   "cell_type": "markdown",
   "id": "6a75e1bc",
   "metadata": {},
   "source": [
    "### 使用comprehension的技巧"
   ]
  },
  {
   "cell_type": "code",
   "execution_count": 16,
   "id": "95f69e62",
   "metadata": {},
   "outputs": [
    {
     "data": {
      "text/plain": [
       "[{'name': 'Alice', 'Chinese': 85, 'English': 92, 'Math': 78},\n",
       " {'name': 'Charlie', 'Chinese': 90, 'English': 85, 'Math': 85},\n",
       " {'name': 'Eva', 'Chinese': 95, 'English': 98, 'Math': 92},\n",
       " {'name': 'Grace', 'Chinese': 88, 'English': 82, 'Math': 85},\n",
       " {'name': 'Helen', 'Chinese': 92, 'English': 90, 'Math': 94},\n",
       " {'name': 'Jane', 'Chinese': 85, 'English': 87, 'Math': 89}]"
      ]
     },
     "execution_count": 16,
     "metadata": {},
     "output_type": "execute_result"
    }
   ],
   "source": [
    "student_80 = [student for student in students if student['Chinese'] >= 80] #過濾\n",
    "student_80"
   ]
  },
  {
   "cell_type": "markdown",
   "id": "73393bac",
   "metadata": {},
   "source": [
    "### 使用filter()的技巧\n",
    "- 說明書\n",
    "    - filter(function, iterable)"
   ]
  },
  {
   "cell_type": "markdown",
   "id": "0516f791",
   "metadata": {},
   "source": [
    "Python 中的 `filter()` 函式用來從一個可迭代物件（如列表、元組等）中篩選出符合條件的元素。其基本語法如下：\n",
    "\n",
    "```python\n",
    "filter(function, iterable)\n",
    "```\n",
    "\n",
    "- `function`：一個函式，用來判斷元素是否符合條件。此函式接受一個參數，回傳布林值 `True` 或 `False`。回傳 `True` 的元素會被保留。\n",
    "- `iterable`：要篩選的可迭代物件。\n",
    "\n",
    "`filter()` 會回傳一個 filter 物件（可迭代），通常會搭配 `list()` 或其他容器轉換使用。\n",
    "\n",
    "### 範例說明\n",
    "\n",
    "```python\n",
    "# 篩選出列表中所有偶數\n",
    "numbers = [1, 2, 3, 4, 5, 6]\n",
    "\n",
    "def is_even(n):\n",
    "    return n % 2 == 0\n",
    "\n",
    "filtered_numbers = filter(is_even, numbers)\n",
    "print(list(filtered_numbers))  # 輸出: [2, 4, 6]\n",
    "```\n",
    "\n",
    "也可以用匿名函式（lambda）簡化：\n",
    "\n",
    "```python\n",
    "filtered_numbers = filter(lambda x: x % 2 == 0, numbers)\n",
    "print(list(filtered_numbers))  # 輸出: [2, 4, 6]\n",
    "```\n",
    "\n",
    "### 使用重點\n",
    "\n",
    "- `filter()` 不會改變原始資料，而是回傳一個新的可迭代物件。\n",
    "- 如果 `function` 是 `None`，則會過濾掉所有布林值為 `False` 的元素（例如 `False`, `0`, `None`, `''` 等）。\n",
    "\n",
    "```python\n",
    "items = [\"apple\", \"\", \"banana\", None, \"cherry\"]\n",
    "filtered_items = filter(None, items)\n",
    "print(list(filtered_items))  # 輸出: ['apple', 'banana', 'cherry']\n",
    "```\n",
    "\n",
    "\n"
   ]
  },
  {
   "cell_type": "code",
   "execution_count": 19,
   "id": "ad94f137",
   "metadata": {},
   "outputs": [
    {
     "data": {
      "text/plain": [
       "[{'name': 'Alice', 'Chinese': 85, 'English': 92, 'Math': 78},\n",
       " {'name': 'Charlie', 'Chinese': 90, 'English': 85, 'Math': 85},\n",
       " {'name': 'Eva', 'Chinese': 95, 'English': 98, 'Math': 92},\n",
       " {'name': 'Grace', 'Chinese': 88, 'English': 82, 'Math': 85},\n",
       " {'name': 'Helen', 'Chinese': 92, 'English': 90, 'Math': 94},\n",
       " {'name': 'Jane', 'Chinese': 85, 'English': 87, 'Math': 89}]"
      ]
     },
     "execution_count": 19,
     "metadata": {},
     "output_type": "execute_result"
    }
   ],
   "source": [
    "def chinese_greater_80(student):\n",
    "    if student['Chinese'] >= 80:\n",
    "        return student\n",
    "    \n",
    "\n",
    "list(filter(chinese_greater_80, students))"
   ]
  },
  {
   "cell_type": "markdown",
   "id": "82d557cc",
   "metadata": {},
   "source": [
    "Python 的 lambda 函數是一種匿名函數（沒有名稱的函數），用來寫簡短且單行的函數。它的語法格式如下：\n",
    "\n",
    "```python\n",
    "lambda 參數列表: 運算式\n",
    "```\n",
    "\n",
    "- `lambda` 是關鍵字，表示定義一個匿名函數。\n",
    "- 參數列表可以有多個參數，用逗號分隔。\n",
    "- 運算式是函數的回傳值，且只能是一個單行表達式，不能有多行程式碼或複雜語句。\n",
    "\n",
    "### 範例說明\n",
    "\n",
    "1. 基本用法：定義一個加法函數\n",
    "\n",
    "```python\n",
    "add = lambda x, y: x + y\n",
    "print(add(3, 4))  # 輸出 7\n",
    "```\n",
    "\n",
    "2. 立即執行函數（IIFE）\n",
    "\n",
    "```python\n",
    "print((lambda x, y: x * y)(5, 6))  # 輸出 30\n",
    "```\n",
    "\n",
    "3. 搭配內建函數使用\n",
    "\n",
    "- `map()`：將 lambda 函數應用於可迭代物件的每個元素\n",
    "\n",
    "```python\n",
    "numbers = [1, 2, 3, 4, 5]\n",
    "doubled = list(map(lambda x: x * 2, numbers))\n",
    "print(doubled)  # 輸出 [2, 4, 6, 8, 10]\n",
    "```\n",
    "\n",
    "- `filter()`：過濾符合條件的元素\n",
    "\n",
    "```python\n",
    "numbers = [5, 10, 15, 20]\n",
    "filtered = list(filter(lambda x: x > 10, numbers))\n",
    "print(filtered)  # 輸出 [15, 20]\n",
    "```\n",
    "\n",
    "- `reduce()`：累積運算（需匯入 `functools` 模組）\n",
    "\n",
    "```python\n",
    "from functools import reduce\n",
    "numbers = [1, 2, 3, 4]\n",
    "product = reduce(lambda x, y: x * y, numbers)\n",
    "print(product)  # 輸出 24\n",
    "```\n",
    "\n",
    "- `sorted()`：自訂排序依據\n",
    "\n",
    "```python\n",
    "cars = [('Toyota', 30000), ('Honda', 25000), ('Ford', 27000)]\n",
    "sorted_cars = sorted(cars, key=lambda car: car[1])\n",
    "print(sorted_cars)  # 依價格排序\n",
    "```\n",
    "\n",
    "### 與一般函數的差異\n",
    "\n",
    "| 特性            | Lambda函數               | 一般函數 (def)          |\n",
    "|-----------------|-------------------------|-------------------------|\n",
    "| 是否有名稱      | 無（匿名函數）           | 有名稱                  |\n",
    "| 函數內容        | 只能有一行運算式         | 可有多行程式碼          |\n",
    "| 回傳值          | 自動回傳運算式結果       | 需使用 `return` 指定回傳 |\n",
    "| 適用場景        | 簡短、臨時的函數         | 複雜邏輯或多行程式碼    |\n",
    "\n",
    "總結來說，lambda 函數適合用於簡短、一次性的函數，尤其是作為參數傳入其他函數（如 `map`、`filter`、`sorted` 等）時，使程式碼更簡潔，但不建議用於複雜邏輯，以免降低程式可讀性[1][2][3][4][7]。\n",
    "\n",
    "\n"
   ]
  },
  {
   "cell_type": "code",
   "execution_count": 26,
   "id": "be65b20a",
   "metadata": {},
   "outputs": [
    {
     "data": {
      "text/plain": [
       "[{'name': 'Alice', 'Chinese': 85, 'English': 92, 'Math': 78},\n",
       " {'name': 'Charlie', 'Chinese': 90, 'English': 85, 'Math': 85},\n",
       " {'name': 'Eva', 'Chinese': 95, 'English': 98, 'Math': 92},\n",
       " {'name': 'Grace', 'Chinese': 88, 'English': 82, 'Math': 85},\n",
       " {'name': 'Helen', 'Chinese': 92, 'English': 90, 'Math': 94},\n",
       " {'name': 'Jane', 'Chinese': 85, 'English': 87, 'Math': 89}]"
      ]
     },
     "execution_count": 26,
     "metadata": {},
     "output_type": "execute_result"
    }
   ],
   "source": [
    "list(filter(lambda student:student if student['Chinese'] >= 80 else None, students))"
   ]
  }
 ],
 "metadata": {
  "kernelspec": {
   "display_name": "base",
   "language": "python",
   "name": "python3"
  },
  "language_info": {
   "codemirror_mode": {
    "name": "ipython",
    "version": 3
   },
   "file_extension": ".py",
   "mimetype": "text/x-python",
   "name": "python",
   "nbconvert_exporter": "python",
   "pygments_lexer": "ipython3",
   "version": "3.12.9"
  }
 },
 "nbformat": 4,
 "nbformat_minor": 5
}
