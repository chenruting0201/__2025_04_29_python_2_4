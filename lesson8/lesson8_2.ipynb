{
 "cells": [
  {
   "cell_type": "markdown",
   "id": "c2b5bf13",
   "metadata": {},
   "source": [
    "### list_comprehension(快速建立list)\n",
    "- [ expression for item in iterable ]"
   ]
  },
  {
   "cell_type": "code",
   "execution_count": null,
   "id": "7a85b058",
   "metadata": {},
   "outputs": [],
   "source": [
    "for i in range(1,11):\n",
    "    print(i)"
   ]
  },
  {
   "cell_type": "code",
   "execution_count": 4,
   "id": "e926876f",
   "metadata": {},
   "outputs": [
    {
     "data": {
      "text/plain": [
       "[2, 4, 6, 8, 10, 12, 14, 16, 18, 20]"
      ]
     },
     "execution_count": 4,
     "metadata": {},
     "output_type": "execute_result"
    }
   ],
   "source": [
    "[i*2 for i in range(1, 11)]"
   ]
  },
  {
   "cell_type": "markdown",
   "id": "37484361",
   "metadata": {},
   "source": [
    "- [ expression for item in iterable if 條件式]\n",
    "\n",
    "⬇︎"
   ]
  },
  {
   "cell_type": "code",
   "execution_count": 6,
   "id": "cc21352f",
   "metadata": {},
   "outputs": [
    {
     "data": {
      "text/plain": [
       "[2, 6, 10, 14, 18]"
      ]
     },
     "execution_count": 6,
     "metadata": {},
     "output_type": "execute_result"
    }
   ],
   "source": [
    "[i*2 for i in range(1, 11) if i % 2 == 1]"
   ]
  },
  {
   "cell_type": "markdown",
   "id": "34e20372",
   "metadata": {},
   "source": [
    "### map(),filter"
   ]
  },
  {
   "cell_type": "code",
   "execution_count": null,
   "id": "c2618fd6",
   "metadata": {},
   "outputs": [
    {
     "data": {
      "text/plain": [
       "[{'姓名': '張xx', 'age': 35, 'score': 256},\n",
       " {'姓名': '王xx', 'age': 45, 'score': 278},\n",
       " {'姓名': '李xx', 'age': 37, 'score': 291}]"
      ]
     },
     "execution_count": 10,
     "metadata": {},
     "output_type": "execute_result"
    }
   ],
   "source": [
    "#記憶體內的表格資料\n",
    "\n",
    "students = [{\"姓名\":\"張xx\",\"age\":35,\"score\":256}, \n",
    "            {\"姓名\":\"王xx\",\"age\":45,\"score\":278}, \n",
    "            {\"姓名\":\"李xx\",\"age\":37,\"score\":291}]\n",
    "students"
   ]
  },
  {
   "cell_type": "code",
   "execution_count": 11,
   "id": "f40f8819",
   "metadata": {},
   "outputs": [
    {
     "name": "stdout",
     "output_type": "stream",
     "text": [
      "{'姓名': '張xx', 'age': 35, 'score': 256}\n",
      "{'姓名': '王xx', 'age': 45, 'score': 278}\n",
      "{'姓名': '李xx', 'age': 37, 'score': 291}\n"
     ]
    }
   ],
   "source": [
    "for student in students:\n",
    "    print(student)"
   ]
  },
  {
   "cell_type": "code",
   "execution_count": 12,
   "id": "54bfa867",
   "metadata": {},
   "outputs": [],
   "source": [
    "students = [\n",
    "    {\"name\": \"Alice\", \"Chinese\": 85, \"English\": 92, \"Math\": 78},\n",
    "    {\"name\": \"Bob\", \"Chinese\": 75, \"English\": 88, \"Math\": 90},\n",
    "    {\"name\": \"Charlie\", \"Chinese\": 90, \"English\": 85, \"Math\": 85},\n",
    "    {\"name\": \"David\", \"Chinese\": 60, \"English\": 70, \"Math\": 80},\n",
    "    {\"name\": \"Eva\", \"Chinese\": 95, \"English\": 98, \"Math\": 92},\n",
    "    {\"name\": \"Frank\", \"Chinese\": 70, \"English\": 75, \"Math\": 68},\n",
    "    {\"name\": \"Grace\", \"Chinese\": 88, \"English\": 82, \"Math\": 85},\n",
    "    {\"name\": \"Helen\", \"Chinese\": 92, \"English\": 90, \"Math\": 94},\n",
    "    {\"name\": \"Ian\", \"Chinese\": 78, \"English\": 80, \"Math\": 72},\n",
    "    {\"name\": \"Jane\", \"Chinese\": 85, \"English\": 87, \"Math\": 89}\n",
    "]"
   ]
  },
  {
   "cell_type": "code",
   "execution_count": 14,
   "id": "031c0a02",
   "metadata": {},
   "outputs": [
    {
     "name": "stdout",
     "output_type": "stream",
     "text": [
      "{'name': 'Alice', 'Chinese': 85, 'English': 92, 'Math': 78}\n",
      "{'name': 'Charlie', 'Chinese': 90, 'English': 85, 'Math': 85}\n",
      "{'name': 'Eva', 'Chinese': 95, 'English': 98, 'Math': 92}\n",
      "{'name': 'Grace', 'Chinese': 88, 'English': 82, 'Math': 85}\n",
      "{'name': 'Helen', 'Chinese': 92, 'English': 90, 'Math': 94}\n",
      "{'name': 'Jane', 'Chinese': 85, 'English': 87, 'Math': 89}\n"
     ]
    }
   ],
   "source": [
    "for student in students:\n",
    "    if student['Chinese'] >= 80:\n",
    "        print(student)"
   ]
  },
  {
   "cell_type": "markdown",
   "id": "6a75e1bc",
   "metadata": {},
   "source": [
    "### 使用comprehension的技巧"
   ]
  },
  {
   "cell_type": "code",
   "execution_count": 16,
   "id": "95f69e62",
   "metadata": {},
   "outputs": [
    {
     "data": {
      "text/plain": [
       "[{'name': 'Alice', 'Chinese': 85, 'English': 92, 'Math': 78},\n",
       " {'name': 'Charlie', 'Chinese': 90, 'English': 85, 'Math': 85},\n",
       " {'name': 'Eva', 'Chinese': 95, 'English': 98, 'Math': 92},\n",
       " {'name': 'Grace', 'Chinese': 88, 'English': 82, 'Math': 85},\n",
       " {'name': 'Helen', 'Chinese': 92, 'English': 90, 'Math': 94},\n",
       " {'name': 'Jane', 'Chinese': 85, 'English': 87, 'Math': 89}]"
      ]
     },
     "execution_count": 16,
     "metadata": {},
     "output_type": "execute_result"
    }
   ],
   "source": [
    "student_80 = [student for student in students if student['Chinese'] >= 80] #過濾\n",
    "student_80"
   ]
  },
  {
   "cell_type": "markdown",
   "id": "73393bac",
   "metadata": {},
   "source": [
    "### 使用filter()的技巧\n",
    "- 說明書\n",
    "    - filter(function, iterable)"
   ]
  },
  {
   "cell_type": "markdown",
   "id": "0516f791",
   "metadata": {},
   "source": [
    "Python 中的 `filter()` 函式用來從一個可迭代物件（如列表、元組等）中篩選出符合條件的元素。其基本語法如下：\n",
    "\n",
    "```python\n",
    "filter(function, iterable)\n",
    "```\n",
    "\n",
    "- `function`：一個函式，用來判斷元素是否符合條件。此函式接受一個參數，回傳布林值 `True` 或 `False`。回傳 `True` 的元素會被保留。\n",
    "- `iterable`：要篩選的可迭代物件。\n",
    "\n",
    "`filter()` 會回傳一個 filter 物件（可迭代），通常會搭配 `list()` 或其他容器轉換使用。\n",
    "\n",
    "### 範例說明\n",
    "\n",
    "```python\n",
    "# 篩選出列表中所有偶數\n",
    "numbers = [1, 2, 3, 4, 5, 6]\n",
    "\n",
    "def is_even(n):\n",
    "    return n % 2 == 0\n",
    "\n",
    "filtered_numbers = filter(is_even, numbers)\n",
    "print(list(filtered_numbers))  # 輸出: [2, 4, 6]\n",
    "```\n",
    "\n",
    "也可以用匿名函式（lambda）簡化：\n",
    "\n",
    "```python\n",
    "filtered_numbers = filter(lambda x: x % 2 == 0, numbers)\n",
    "print(list(filtered_numbers))  # 輸出: [2, 4, 6]\n",
    "```\n",
    "\n",
    "### 使用重點\n",
    "\n",
    "- `filter()` 不會改變原始資料，而是回傳一個新的可迭代物件。\n",
    "- 如果 `function` 是 `None`，則會過濾掉所有布林值為 `False` 的元素（例如 `False`, `0`, `None`, `''` 等）。\n",
    "\n",
    "```python\n",
    "items = [\"apple\", \"\", \"banana\", None, \"cherry\"]\n",
    "filtered_items = filter(None, items)\n",
    "print(list(filtered_items))  # 輸出: ['apple', 'banana', 'cherry']\n",
    "```\n",
    "\n",
    "\n"
   ]
  }
 ],
 "metadata": {
  "kernelspec": {
   "display_name": "base",
   "language": "python",
   "name": "python3"
  },
  "language_info": {
   "codemirror_mode": {
    "name": "ipython",
    "version": 3
   },
   "file_extension": ".py",
   "mimetype": "text/x-python",
   "name": "python",
   "nbconvert_exporter": "python",
   "pygments_lexer": "ipython3",
   "version": "3.12.9"
  }
 },
 "nbformat": 4,
 "nbformat_minor": 5
}
