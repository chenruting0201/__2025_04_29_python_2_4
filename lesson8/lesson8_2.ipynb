{
 "cells": [
  {
   "cell_type": "markdown",
   "id": "c2b5bf13",
   "metadata": {},
   "source": [
    "### list_comprehension(快速建立list)\n",
    "- [ expression for item in iterable ]"
   ]
  },
  {
   "cell_type": "code",
   "execution_count": null,
   "id": "7a85b058",
   "metadata": {},
   "outputs": [],
   "source": [
    "for i in range(1,11):\n",
    "    print(i)"
   ]
  },
  {
   "cell_type": "code",
   "execution_count": 4,
   "id": "e926876f",
   "metadata": {},
   "outputs": [
    {
     "data": {
      "text/plain": [
       "[2, 4, 6, 8, 10, 12, 14, 16, 18, 20]"
      ]
     },
     "execution_count": 4,
     "metadata": {},
     "output_type": "execute_result"
    }
   ],
   "source": [
    "[i*2 for i in range(1, 11)]"
   ]
  },
  {
   "cell_type": "markdown",
   "id": "37484361",
   "metadata": {},
   "source": [
    "- [ expression for item in iterable if 條件式]\n",
    "\n",
    "⬇︎"
   ]
  },
  {
   "cell_type": "code",
   "execution_count": 6,
   "id": "cc21352f",
   "metadata": {},
   "outputs": [
    {
     "data": {
      "text/plain": [
       "[2, 6, 10, 14, 18]"
      ]
     },
     "execution_count": 6,
     "metadata": {},
     "output_type": "execute_result"
    }
   ],
   "source": [
    "[i*2 for i in range(1, 11) if i % 2 == 1]"
   ]
  },
  {
   "cell_type": "markdown",
   "id": "34e20372",
   "metadata": {},
   "source": [
    "### map(),filter"
   ]
  },
  {
   "cell_type": "code",
   "execution_count": null,
   "id": "c2618fd6",
   "metadata": {},
   "outputs": [
    {
     "data": {
      "text/plain": [
       "[{'姓名': '張xx', 'age': 35, 'score': 256},\n",
       " {'姓名': '王xx', 'age': 45, 'score': 278},\n",
       " {'姓名': '李xx', 'age': 37, 'score': 291}]"
      ]
     },
     "execution_count": 10,
     "metadata": {},
     "output_type": "execute_result"
    }
   ],
   "source": [
    "#記憶體內的表格資料\n",
    "\n",
    "students = [{\"姓名\":\"張xx\",\"age\":35,\"score\":256}, \n",
    "            {\"姓名\":\"王xx\",\"age\":45,\"score\":278}, \n",
    "            {\"姓名\":\"李xx\",\"age\":37,\"score\":291}]\n",
    "students"
   ]
  },
  {
   "cell_type": "code",
   "execution_count": 11,
   "id": "f40f8819",
   "metadata": {},
   "outputs": [
    {
     "name": "stdout",
     "output_type": "stream",
     "text": [
      "{'姓名': '張xx', 'age': 35, 'score': 256}\n",
      "{'姓名': '王xx', 'age': 45, 'score': 278}\n",
      "{'姓名': '李xx', 'age': 37, 'score': 291}\n"
     ]
    }
   ],
   "source": [
    "for student in students:\n",
    "    print(student)"
   ]
  }
 ],
 "metadata": {
  "kernelspec": {
   "display_name": "base",
   "language": "python",
   "name": "python3"
  },
  "language_info": {
   "codemirror_mode": {
    "name": "ipython",
    "version": 3
   },
   "file_extension": ".py",
   "mimetype": "text/x-python",
   "name": "python",
   "nbconvert_exporter": "python",
   "pygments_lexer": "ipython3",
   "version": "3.12.9"
  }
 },
 "nbformat": 4,
 "nbformat_minor": 5
}
