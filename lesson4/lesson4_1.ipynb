{
 "cells": [
  {
   "cell_type": "code",
   "execution_count": 2,
   "id": "a844476d",
   "metadata": {},
   "outputs": [
    {
     "name": "stdout",
     "output_type": "stream",
     "text": [
      "應用程式結束\n"
     ]
    }
   ],
   "source": [
    "#單項選擇,有可能執行,也有可能不執行\n",
    "if False:\n",
    "    print(\"這是True的程式區塊\")\n",
    "    print(\"現在是True\")\n",
    "print(\"應用程式結束\")"
   ]
  },
  {
   "cell_type": "code",
   "execution_count": 4,
   "id": "03bf5ff7",
   "metadata": {},
   "outputs": [
    {
     "name": "stdout",
     "output_type": "stream",
     "text": [
      "這是True的程式區塊\n",
      "現在是True\n",
      "應用程式結束\n"
     ]
    }
   ],
   "source": [
    "#雙項選擇,一定執行其中一個程式區塊\n",
    "#只要有else,一定執行其中一個程式區塊\n",
    "if True:\n",
    "    print(\"這是True的程式區塊\")\n",
    "    print(\"現在是True\")\n",
    "else:\n",
    "    print(\"這是False的程式區塊\")\n",
    "    print(\"現在是False\")\n",
    "print(\"應用程式結束\")"
   ]
  },
  {
   "cell_type": "code",
   "execution_count": null,
   "id": "02ebef7e",
   "metadata": {},
   "outputs": [
    {
     "name": "stdout",
     "output_type": "stream",
     "text": [
      "可以考駕照\n"
     ]
    }
   ],
   "source": [
    "age:int = int(input(\"請輸入age:\"))\n",
    "if age >= 18:\n",
    "    print(\"可以考駕照\")\n",
    "else:\n",
    "    print(\"不可以考駕照\")"
   ]
  },
  {
   "cell_type": "code",
   "execution_count": null,
   "id": "7aee526b",
   "metadata": {},
   "outputs": [
    {
     "ename": "NameError",
     "evalue": "name 'nt' is not defined",
     "output_type": "error",
     "traceback": [
      "\u001b[31m---------------------------------------------------------------------------\u001b[39m",
      "\u001b[31mNameError\u001b[39m                                 Traceback (most recent call last)",
      "\u001b[36mCell\u001b[39m\u001b[36m \u001b[39m\u001b[32mIn[10]\u001b[39m\u001b[32m, line 4\u001b[39m\n\u001b[32m      1\u001b[39m \u001b[38;5;66;03m#學生總分為300\u001b[39;00m\n\u001b[32m      2\u001b[39m \u001b[38;5;66;03m#有些學生可以加分5%\u001b[39;00m\n\u001b[32m----> \u001b[39m\u001b[32m4\u001b[39m scores:\u001b[38;5;28mint\u001b[39m = \u001b[43mnt\u001b[49m(\u001b[38;5;28minput\u001b[39m(\u001b[33m\"\u001b[39m\u001b[33m請輸入學生分數(最高300分):\u001b[39m\u001b[33m\"\u001b[39m))\n\u001b[32m      5\u001b[39m is_add:\u001b[38;5;28mstr\u001b[39m = \u001b[38;5;28minput\u001b[39m(\u001b[33m\"\u001b[39m\u001b[33m學生是否符合加分條件?(y,n)\u001b[39m\u001b[33m\"\u001b[39m)\n\u001b[32m      6\u001b[39m \u001b[38;5;28;01mif\u001b[39;00m(is_add == \u001b[33m\"\u001b[39m\u001b[33my\u001b[39m\u001b[33m\"\u001b[39m):\n",
      "\u001b[31mNameError\u001b[39m: name 'nt' is not defined"
     ]
    }
   ],
   "source": [
    "#學生總分為300\n",
    "#有些學生可以加分5%\n",
    "\n",
    "scores:int = int(input(\"請輸入學生分數(最高300分):\"))\n",
    "is_add:str = input(\"學生是否符合加分條件?(y,n)\")\n",
    "if(is_add == \"y\"):\n",
    "    scores *= 1.05\n",
    "    if scores > 300:\n",
    "        scores = 300\n",
    "print(round(scores))"
   ]
  },
  {
   "cell_type": "code",
   "execution_count": 14,
   "id": "5554614a",
   "metadata": {},
   "outputs": [
    {
     "name": "stdout",
     "output_type": "stream",
     "text": [
      "輸入有錯誤\n",
      "284\n"
     ]
    }
   ],
   "source": [
    "#學生總分為300\n",
    "#有些學生可以加分5%\n",
    "try:\n",
    "    scores:int = int(input(\"請輸入學生分數(最高300分):\"))\n",
    "    is_add:str = input(\"學生是否符合加分條件?(y,n)\")\n",
    "    if(is_add == \"y\"):\n",
    "        scores *= 1.05\n",
    "        if scores > 300:\n",
    "            scores = 300    \n",
    "except:\n",
    "    print(\"輸入有錯誤\")\n",
    "print(round(scores))"
   ]
  },
  {
   "cell_type": "code",
   "execution_count": 23,
   "id": "ea8a714d",
   "metadata": {},
   "outputs": [
    {
     "name": "stdout",
     "output_type": "stream",
     "text": [
      "輸入分數超過300\n",
      "應用程式結束\n"
     ]
    }
   ],
   "source": [
    "#學生總分為300\n",
    "#有些學生可以加分5%\n",
    "try:\n",
    "    scores:int = int(input(\"請輸入學生分數(最高300分):\"))\n",
    "    if scores > 300:\n",
    "        raise Exception(\"輸入分數超過300\") #自已raise錯誤\n",
    "    is_add:str = input(\"學生是否符合加分條件?(y,n)\")\n",
    "    if(is_add == \"y\"):\n",
    "        scores *= 1.05\n",
    "        if scores > 300:\n",
    "            scores = 300    \n",
    "except ValueError:\n",
    "    print(\"輸入有錯誤\")\n",
    "except Exception as e:\n",
    "    print(e)\n",
    "else:\n",
    "    print(round(scores))\n",
    "print(\"應用程式結束\")"
   ]
  }
 ],
 "metadata": {
  "kernelspec": {
   "display_name": "base",
   "language": "python",
   "name": "python3"
  },
  "language_info": {
   "codemirror_mode": {
    "name": "ipython",
    "version": 3
   },
   "file_extension": ".py",
   "mimetype": "text/x-python",
   "name": "python",
   "nbconvert_exporter": "python",
   "pygments_lexer": "ipython3",
   "version": "3.12.9"
  }
 },
 "nbformat": 4,
 "nbformat_minor": 5
}
