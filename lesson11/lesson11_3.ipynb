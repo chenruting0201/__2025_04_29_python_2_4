{
 "cells": [
  {
   "cell_type": "markdown",
   "id": "74abe4e4",
   "metadata": {},
   "source": [
    "### json格式\n",
    "https://www.perplexity.ai/search/a8f46208-7ba6-468b-be59-0a02c7e596e3"
   ]
  },
  {
   "cell_type": "markdown",
   "id": "d880ca55",
   "metadata": {},
   "source": [
    "https://opendata.cwa.gov.tw/api/v1/rest/datastore/F-C0032-001?Authorization=rdec-key-123-45678-011121314&format=JSON\n",
    "\n",
    "online json viewer"
   ]
  }
 ],
 "metadata": {
  "kernelspec": {
   "display_name": "base",
   "language": "python",
   "name": "python3"
  },
  "language_info": {
   "name": "python",
   "version": "3.12.9"
  }
 },
 "nbformat": 4,
 "nbformat_minor": 5
}
