{
 "cells": [
  {
   "cell_type": "markdown",
   "id": "c7aa0f66",
   "metadata": {},
   "source": [
    "https://www.perplexity.ai/search/b92996f2-3fae-420d-8946-bc113e815f93"
   ]
  },
  {
   "cell_type": "code",
   "execution_count": null,
   "id": "e4974ba4",
   "metadata": {},
   "outputs": [],
   "source": [
    "import requests\n"
   ]
  }
 ],
 "metadata": {
  "kernelspec": {
   "display_name": "base",
   "language": "python",
   "name": "python3"
  },
  "language_info": {
   "codemirror_mode": {
    "name": "ipython",
    "version": 3
   },
   "file_extension": ".py",
   "mimetype": "text/x-python",
   "name": "python",
   "nbconvert_exporter": "python",
   "pygments_lexer": "ipython3",
   "version": "3.12.9"
  }
 },
 "nbformat": 4,
 "nbformat_minor": 5
}
