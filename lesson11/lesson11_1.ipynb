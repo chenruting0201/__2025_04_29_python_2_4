{
 "cells": [
  {
   "cell_type": "markdown",
   "id": "c7aa0f66",
   "metadata": {},
   "source": [
    "https://www.perplexity.ai/search/b92996f2-3fae-420d-8946-bc113e815f93"
   ]
  }
 ],
 "metadata": {
  "kernelspec": {
   "display_name": "base",
   "language": "python",
   "name": "python3"
  },
  "language_info": {
   "name": "python",
   "version": "3.12.9"
  }
 },
 "nbformat": 4,
 "nbformat_minor": 5
}
