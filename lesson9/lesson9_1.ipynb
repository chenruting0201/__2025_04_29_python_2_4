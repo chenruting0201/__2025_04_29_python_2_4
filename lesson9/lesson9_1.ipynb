{
 "cells": [
  {
   "cell_type": "code",
   "execution_count": 6,
   "id": "bd647a89",
   "metadata": {},
   "outputs": [],
   "source": [
    "from dataclasses import dataclass\n",
    "\n",
    "@dataclass\n",
    "class Student:\n",
    "    name:str\n",
    "    chinese:int\n",
    "    english:int\n",
    "    math:int\n",
    "\n",
    "    @property\n",
    "    def total(self)->int:\n",
    "        return self.chinese + self.english + self.math \n"
   ]
  },
  {
   "cell_type": "code",
   "execution_count": null,
   "id": "73547888",
   "metadata": {},
   "outputs": [
    {
     "name": "stdout",
     "output_type": "stream",
     "text": [
      "<class '__main__.Student'>\n",
      "robert 89 78 92\n"
     ]
    },
    {
     "data": {
      "text/plain": [
       "259"
      ]
     },
     "execution_count": 7,
     "metadata": {},
     "output_type": "execute_result"
    }
   ],
   "source": [
    "stu1 = Student(name='robert',chinese=89, english=78, math=92)\n",
    "print(type(stu1))\n",
    "print(stu1.name, stu1.chinese, stu1.english, stu1.math)\n",
    "print(stu1.total)"
   ]
  },
  {
   "cell_type": "code",
   "execution_count": null,
   "id": "0ddbe108",
   "metadata": {},
   "outputs": [
    {
     "name": "stdout",
     "output_type": "stream",
     "text": [
      "<class '__main__.Student'>\n"
     ]
    },
    {
     "data": {
      "text/plain": [
       "252"
      ]
     },
     "execution_count": 8,
     "metadata": {},
     "output_type": "execute_result"
    }
   ],
   "source": [
    "stu2 = Student(name='jenny',chinese=76, english=87, math=89)\n",
    "print(type(stu2))\n",
    "print(stu2.name, stu2.chinese, stu2.english, stu2.math)\n",
    "stu2.total"
   ]
  }
 ],
 "metadata": {
  "kernelspec": {
   "display_name": "base",
   "language": "python",
   "name": "python3"
  },
  "language_info": {
   "codemirror_mode": {
    "name": "ipython",
    "version": 3
   },
   "file_extension": ".py",
   "mimetype": "text/x-python",
   "name": "python",
   "nbconvert_exporter": "python",
   "pygments_lexer": "ipython3",
   "version": "3.12.9"
  }
 },
 "nbformat": 4,
 "nbformat_minor": 5
}
