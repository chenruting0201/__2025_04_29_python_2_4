{
 "cells": [
  {
   "cell_type": "markdown",
   "id": "4d5e0c9e",
   "metadata": {},
   "source": [
    "### 數值運算(int,float)\n",
    "### 數學運算子\n",
    "### 運算子運算順序"
   ]
  },
  {
   "cell_type": "code",
   "execution_count": 1,
   "id": "cc9ab7a3",
   "metadata": {},
   "outputs": [
    {
     "data": {
      "text/plain": [
       "10"
      ]
     },
     "execution_count": 1,
     "metadata": {},
     "output_type": "execute_result"
    }
   ],
   "source": [
    "2 * (1 + 2) ** 2 - 2 ** 2 * 2"
   ]
  },
  {
   "cell_type": "code",
   "execution_count": null,
   "id": "a620a500",
   "metadata": {},
   "outputs": [
    {
     "data": {
      "text/plain": [
       "25"
      ]
     },
     "execution_count": 2,
     "metadata": {},
     "output_type": "execute_result"
    }
   ],
   "source": [
    "5 + 10 #運算式\n",
    "20 + 5 #運算式"
   ]
  },
  {
   "cell_type": "markdown",
   "id": "6263119f",
   "metadata": {},
   "source": [
    "### 建立變數\n",
    "- 依靠指定運算子"
   ]
  },
  {
   "cell_type": "code",
   "execution_count": null,
   "id": "2db32837",
   "metadata": {},
   "outputs": [
    {
     "name": "stdout",
     "output_type": "stream",
     "text": [
      "total= 40\n"
     ]
    }
   ],
   "source": [
    "n = 15 #敘述式\n",
    "m = 25 #敘述式\n",
    "total = n + m #敘述式\n",
    "print(\"total=\", total) # 敘述式"
   ]
  },
  {
   "cell_type": "code",
   "execution_count": 10,
   "id": "1ef2eb8c",
   "metadata": {},
   "outputs": [
    {
     "name": "stdout",
     "output_type": "stream",
     "text": [
      "15 25\n"
     ]
    }
   ],
   "source": [
    "x = 5 + 10\n",
    "y = 20 + 5\n",
    "print(x, y)"
   ]
  },
  {
   "cell_type": "markdown",
   "id": "3f46f341",
   "metadata": {},
   "source": [
    "### 輸入 \n",
    "- input()\n",
    "\n",
    "### 輸出\n",
    "- print()"
   ]
  },
  {
   "cell_type": "code",
   "execution_count": 15,
   "id": "997e2e77",
   "metadata": {},
   "outputs": [
    {
     "name": "stdout",
     "output_type": "stream",
     "text": [
      "您輸入的是整數: 20\n"
     ]
    }
   ],
   "source": [
    "value_str = input(\"請輸入整數:\")\n",
    "value = int(value_str)\n",
    "print(\"您輸入的是整數:\", value)"
   ]
  },
  {
   "cell_type": "code",
   "execution_count": 17,
   "id": "38f0ea76",
   "metadata": {},
   "outputs": [
    {
     "name": "stdout",
     "output_type": "stream",
     "text": [
      "2數相加的合是: 1443\n"
     ]
    }
   ],
   "source": [
    "value1 = int(input(\"請輸入第1個整數:\"))\n",
    "value2 = int(input(\"請輸入第2個整數:\"))\n",
    "total = value1 + value2\n",
    "print(\"2數相加的合是:\", total)"
   ]
  },
  {
   "cell_type": "code",
   "execution_count": 21,
   "id": "9a0ce257",
   "metadata": {},
   "outputs": [
    {
     "name": "stdout",
     "output_type": "stream",
     "text": [
      "矩形寬是: 12\n",
      "矩形高是: 56\n",
      "矩形面積是: 672\n"
     ]
    }
   ],
   "source": [
    "width = eval(input(\"請輸入矩形寬:\"))\n",
    "height = eval(input(\"請輸入矩形高:\"))\n",
    "area = width * height\n",
    "print(\"矩形寬是:\",width)\n",
    "print(\"矩形高是:\",height)\n",
    "print(\"矩形面積是:\",area)"
   ]
  }
 ],
 "metadata": {
  "kernelspec": {
   "display_name": "base",
   "language": "python",
   "name": "python3"
  },
  "language_info": {
   "codemirror_mode": {
    "name": "ipython",
    "version": 3
   },
   "file_extension": ".py",
   "mimetype": "text/x-python",
   "name": "python",
   "nbconvert_exporter": "python",
   "pygments_lexer": "ipython3",
   "version": "3.12.9"
  }
 },
 "nbformat": 4,
 "nbformat_minor": 5
}
