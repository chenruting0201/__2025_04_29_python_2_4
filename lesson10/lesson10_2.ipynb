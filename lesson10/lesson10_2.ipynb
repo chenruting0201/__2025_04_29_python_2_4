{
 "cells": [
  {
   "cell_type": "markdown",
   "id": "edb6b7eb",
   "metadata": {},
   "source": [
    "### 讀取csv檔\n",
    "[說明文件](https://www.perplexity.ai/search/8a22aac5-dc37-4bbb-bb81-9edfdd6f0e53)"
   ]
  },
  {
   "cell_type": "code",
   "execution_count": null,
   "id": "668db88d",
   "metadata": {},
   "outputs": [],
   "source": [
    "import csv\n",
    "\n",
    "with open('students.csv',encoding='utf-8',newline='') as csvfile:\n",
    "    reader = csv.DictReader(csvfile)\n",
    "    content:list[dict] = [row for row in reader]\n",
    "\n",
    "content"
   ]
  },
  {
   "cell_type": "code",
   "execution_count": 4,
   "id": "a5f10d5f",
   "metadata": {},
   "outputs": [
    {
     "data": {
      "text/plain": [
       "[{'姓名': '鄭孟芳', '國文': '59', '英文': '73', '數學': '61'},\n",
       " {'姓名': '楊韻如', '國文': '53', '英文': '91', '數學': '53'},\n",
       " {'姓名': '呂傑宣', '國文': '73', '英文': '71', '數學': '58'},\n",
       " {'姓名': '吳昕婷', '國文': '83', '英文': '59', '數學': '76'},\n",
       " {'姓名': '吳淑惠', '國文': '97', '英文': '58', '數學': '59'},\n",
       " {'姓名': '楊韋廷', '國文': '65', '英文': '81', '數學': '50'},\n",
       " {'姓名': '楊火帆', '國文': '56', '英文': '59', '數學': '66'},\n",
       " {'姓名': '杜儀鳳', '國文': '86', '英文': '57', '數學': '57'},\n",
       " {'姓名': '楊綺芬', '國文': '62', '英文': '91', '數學': '55'},\n",
       " {'姓名': '李政白', '國文': '96', '英文': '61', '數學': '53'},\n",
       " {'姓名': '楊少亮', '國文': '50', '英文': '79', '數學': '90'},\n",
       " {'姓名': '蔡孟泉', '國文': '82', '英文': '92', '數學': '57'},\n",
       " {'姓名': '林思賢', '國文': '72', '英文': '50', '數學': '90'},\n",
       " {'姓名': '劉耿琦', '國文': '84', '英文': '52', '數學': '78'},\n",
       " {'姓名': '陳信念', '國文': '59', '英文': '97', '數學': '81'},\n",
       " {'姓名': '王怡珊', '國文': '80', '英文': '76', '數學': '54'},\n",
       " {'姓名': '葉軍仰', '國文': '64', '英文': '53', '數學': '61'},\n",
       " {'姓名': '林志成', '國文': '79', '英文': '57', '數學': '67'}]"
      ]
     },
     "execution_count": 4,
     "metadata": {},
     "output_type": "execute_result"
    }
   ],
   "source": [
    "fail_chinese = [item for item in content if int(item['國文']) < 60 or int(item['英文']) < 60 or int(item['數學']) < 60]\n",
    "fail_chinese"
   ]
  }
 ],
 "metadata": {
  "kernelspec": {
   "display_name": "base",
   "language": "python",
   "name": "python3"
  },
  "language_info": {
   "codemirror_mode": {
    "name": "ipython",
    "version": 3
   },
   "file_extension": ".py",
   "mimetype": "text/x-python",
   "name": "python",
   "nbconvert_exporter": "python",
   "pygments_lexer": "ipython3",
   "version": "3.12.9"
  }
 },
 "nbformat": 4,
 "nbformat_minor": 5
}
