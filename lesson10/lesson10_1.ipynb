{
 "cells": [
  {
   "cell_type": "code",
   "execution_count": 2,
   "id": "4a85c37b",
   "metadata": {},
   "outputs": [
    {
     "name": "stdout",
     "output_type": "stream",
     "text": [
      "  1.李慈啟\n",
      "  2.鄧哲榮\n",
      "  3.白美珍\n"
     ]
    }
   ],
   "source": [
    "import random\n",
    "\n",
    "file = open(\"names.txt\",encoding='utf-8')\n",
    "contents:list[str] = file.readlines()\n",
    "file.close()\n",
    "names:list[str] = [name.strip() for name in contents]\n",
    "pick = int(input(\"請輸入所需要的姓名數量:\"));\n",
    "\n",
    "for i in range(0, pick):\n",
    "    index = random.randint(0, len(names));\n",
    "    print(f\"{i+1:3d}.{names[index]}\");\n",
    "\n",
    "file.close();\n"
   ]
  },
  {
   "cell_type": "code",
   "execution_count": 7,
   "id": "fbeeead7",
   "metadata": {},
   "outputs": [
    {
     "name": "stdout",
     "output_type": "stream",
     "text": [
      "1.林珈發\n",
      "2.趙家豪\n",
      "3.馬彥文\n"
     ]
    }
   ],
   "source": [
    "import random\n",
    "\n",
    "file = open(\"names.txt\",encoding='utf-8')\n",
    "contents:list[str] = file.readlines()\n",
    "file.close()\n",
    "names:list[str] = [name.strip() for name in contents]\n",
    "pick = int(input(\"請輸入所需要的姓名數量:\"));\n",
    "\n",
    "for idx, name in enumerate(random.sample(names, pick)):\n",
    "    print(f'{idx+1}.{name}')"
   ]
  },
  {
   "cell_type": "markdown",
   "id": "44d77c5d",
   "metadata": {},
   "source": [
    "### 建立記憶體的表格資料"
   ]
  },
  {
   "cell_type": "code",
   "execution_count": 2,
   "id": "df1d9dfe",
   "metadata": {},
   "outputs": [
    {
     "data": {
      "text/plain": [
       "[{'姓名': '黃翔杰', '國文': 77, '英文': 63, '數學': 50},\n",
       " {'姓名': '吳昕婷', '國文': 52, '英文': 85, '數學': 85},\n",
       " {'姓名': '王人仰', '國文': 50, '英文': 79, '數學': 54},\n",
       " {'姓名': '游一鈺', '國文': 99, '英文': 62, '數學': 90},\n",
       " {'姓名': '黃健發', '國文': 50, '英文': 93, '數學': 51},\n",
       " {'姓名': '周芷蓁', '國文': 77, '英文': 54, '數學': 89},\n",
       " {'姓名': '林康亮', '國文': 90, '英文': 55, '數學': 97},\n",
       " {'姓名': '陳凱翔', '國文': 59, '英文': 100, '數學': 92},\n",
       " {'姓名': '元延辛', '國文': 84, '英文': 74, '數學': 67},\n",
       " {'姓名': '蔡世馨', '國文': 59, '英文': 93, '數學': 83},\n",
       " {'姓名': '胡姿婷', '國文': 51, '英文': 78, '數學': 52},\n",
       " {'姓名': '王品星', '國文': 100, '英文': 95, '數學': 98},\n",
       " {'姓名': '林志喜', '國文': 76, '英文': 94, '數學': 91},\n",
       " {'姓名': '葉志峰', '國文': 79, '英文': 78, '數學': 83},\n",
       " {'姓名': '翁均安', '國文': 86, '英文': 60, '數學': 92},\n",
       " {'姓名': '黃政甫', '國文': 65, '英文': 71, '數學': 83},\n",
       " {'姓名': '黃偉剛', '國文': 62, '英文': 65, '數學': 63},\n",
       " {'姓名': '蕭怡伶', '國文': 86, '英文': 58, '數學': 57},\n",
       " {'姓名': '林志成', '國文': 94, '英文': 69, '數學': 63},\n",
       " {'姓名': '潘俊賢', '國文': 87, '英文': 89, '數學': 59},\n",
       " {'姓名': '王柏聖', '國文': 79, '英文': 98, '數學': 79},\n",
       " {'姓名': '游淑惠', '國文': 82, '英文': 60, '數學': 94},\n",
       " {'姓名': '林佳人', '國文': 71, '英文': 100, '數學': 56},\n",
       " {'姓名': '謝貞妃', '國文': 94, '英文': 92, '數學': 54},\n",
       " {'姓名': '黃名明', '國文': 50, '英文': 85, '數學': 54},\n",
       " {'姓名': '錢佩豪', '國文': 85, '英文': 81, '數學': 58},\n",
       " {'姓名': '高信宏', '國文': 76, '英文': 84, '數學': 88},\n",
       " {'姓名': '張天亨', '國文': 93, '英文': 73, '數學': 51},\n",
       " {'姓名': '簡美君', '國文': 62, '英文': 84, '數學': 61},\n",
       " {'姓名': '彭茹靖', '國文': 96, '英文': 97, '數學': 71},\n",
       " {'姓名': '陳得映', '國文': 78, '英文': 96, '數學': 82},\n",
       " {'姓名': '劉旭士', '國文': 74, '英文': 68, '數學': 91},\n",
       " {'姓名': '郭舜昇', '國文': 85, '英文': 59, '數學': 99},\n",
       " {'姓名': '林玉佩', '國文': 70, '英文': 69, '數學': 62},\n",
       " {'姓名': '黃婷婷', '國文': 99, '英文': 84, '數學': 82},\n",
       " {'姓名': '陳淑萍', '國文': 66, '英文': 52, '數學': 93},\n",
       " {'姓名': '賴昌韻', '國文': 92, '英文': 56, '數學': 96},\n",
       " {'姓名': '朱士弘', '國文': 60, '英文': 92, '數學': 72},\n",
       " {'姓名': '杜儀鳳', '國文': 56, '英文': 81, '數學': 66},\n",
       " {'姓名': '戴萱能', '國文': 68, '英文': 83, '數學': 55},\n",
       " {'姓名': '盧必妍', '國文': 77, '英文': 94, '數學': 77},\n",
       " {'姓名': '蔡孟泉', '國文': 54, '英文': 92, '數學': 59},\n",
       " {'姓名': '羅幸娥', '國文': 65, '英文': 54, '數學': 91},\n",
       " {'姓名': '張牧聿', '國文': 63, '英文': 100, '數學': 97},\n",
       " {'姓名': '王坤安', '國文': 66, '英文': 66, '數學': 87},\n",
       " {'姓名': '王雅琴', '國文': 100, '英文': 81, '數學': 77},\n",
       " {'姓名': '李佳彥', '國文': 94, '英文': 75, '數學': 56},\n",
       " {'姓名': '姜琬婷', '國文': 71, '英文': 56, '數學': 59},\n",
       " {'姓名': '藍姿婷', '國文': 100, '英文': 54, '數學': 69},\n",
       " {'姓名': '蘇凡菁', '國文': 92, '英文': 75, '數學': 81}]"
      ]
     },
     "execution_count": 2,
     "metadata": {},
     "output_type": "execute_result"
    }
   ],
   "source": [
    "import random\n",
    "\n",
    "file = open(\"names.txt\",encoding='utf-8')\n",
    "contents:list[str] = file.readlines()\n",
    "file.close()\n",
    "names:list[str] = [name.strip() for name in contents]\n",
    "pick = int(input(\"請輸入所需要的姓名數量:\"));\n",
    "\n",
    "selected_names = random.sample(names, pick)\n",
    "students_data:list[dict] = [\n",
    "    {\n",
    "        '姓名':name,\n",
    "        '國文':random.randint(50,100),\n",
    "        '英文':random.randint(50,100),\n",
    "        '數學':random.randint(50, 100) \n",
    "    }\n",
    "    for name in selected_names]\n",
    "students_data"
   ]
  }
 ],
 "metadata": {
  "kernelspec": {
   "display_name": "base",
   "language": "python",
   "name": "python3"
  },
  "language_info": {
   "codemirror_mode": {
    "name": "ipython",
    "version": 3
   },
   "file_extension": ".py",
   "mimetype": "text/x-python",
   "name": "python",
   "nbconvert_exporter": "python",
   "pygments_lexer": "ipython3",
   "version": "3.12.9"
  }
 },
 "nbformat": 4,
 "nbformat_minor": 5
}
