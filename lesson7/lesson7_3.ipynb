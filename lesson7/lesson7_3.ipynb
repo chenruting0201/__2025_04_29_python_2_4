{
 "cells": [
  {
   "cell_type": "markdown",
   "id": "a2bd1bdb",
   "metadata": {},
   "source": [
    "### tuple\n",
    "- 不可變變數(immutable)\n",
    "- 串列資料(Sequence)->有順序的資料\n",
    "- 由符號建立(xxx, xxx, xxxx)"
   ]
  },
  {
   "cell_type": "code",
   "execution_count": 6,
   "id": "1c9ac485",
   "metadata": {},
   "outputs": [
    {
     "data": {
      "text/plain": [
       "('星期一', '星期二', '星期三', '星期四', '星期五', '星期六', '星期日')"
      ]
     },
     "execution_count": 6,
     "metadata": {},
     "output_type": "execute_result"
    }
   ],
   "source": [
    "weekdays:tuple[str] = ('星期一', '星期二', '星期三', '星期四', '星期五', '星期六', '星期日')\n",
    "weekdays"
   ]
  },
  {
   "cell_type": "code",
   "execution_count": 7,
   "id": "e24674b2",
   "metadata": {},
   "outputs": [
    {
     "data": {
      "text/plain": [
       "'星期日'"
      ]
     },
     "execution_count": 7,
     "metadata": {},
     "output_type": "execute_result"
    }
   ],
   "source": [
    "#透過索引編號取得元素\n",
    "weekdays[0]\n",
    "weekdays[1]\n",
    "weekdays[6]"
   ]
  }
 ],
 "metadata": {
  "kernelspec": {
   "display_name": "base",
   "language": "python",
   "name": "python3"
  },
  "language_info": {
   "codemirror_mode": {
    "name": "ipython",
    "version": 3
   },
   "file_extension": ".py",
   "mimetype": "text/x-python",
   "name": "python",
   "nbconvert_exporter": "python",
   "pygments_lexer": "ipython3",
   "version": "3.12.9"
  }
 },
 "nbformat": 4,
 "nbformat_minor": 5
}
