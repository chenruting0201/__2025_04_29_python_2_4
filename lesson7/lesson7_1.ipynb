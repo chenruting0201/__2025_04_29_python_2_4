{
 "cells": [
  {
   "cell_type": "markdown",
   "id": "19225a39",
   "metadata": {},
   "source": [
    "### function的呼叫方式"
   ]
  },
  {
   "cell_type": "markdown",
   "id": "e6a0312c",
   "metadata": {},
   "source": [
    "### 引數值的呼叫\n",
    "- 要依照參數的順序"
   ]
  },
  {
   "cell_type": "code",
   "execution_count": 1,
   "id": "f19b9794",
   "metadata": {},
   "outputs": [],
   "source": [
    "def menu(wine, entree, dessert):\n",
    "    print(f\"前酒:{wine}\")\n",
    "    print(f\"主餐:{entree}\")\n",
    "    print(f'甜點:{dessert}')"
   ]
  },
  {
   "cell_type": "code",
   "execution_count": 2,
   "id": "3a304ac3",
   "metadata": {},
   "outputs": [
    {
     "name": "stdout",
     "output_type": "stream",
     "text": [
      "前酒:白酒\n",
      "主餐:牛排\n",
      "甜點:蛋糕\n"
     ]
    }
   ],
   "source": [
    "#引數值的呼叫\n",
    "menu('白酒', '牛排', '蛋糕')"
   ]
  },
  {
   "cell_type": "markdown",
   "id": "cb127d63",
   "metadata": {},
   "source": [
    "### 引數名稱的呼叫\n",
    "- 使用參數的名稱當作引數名稱\n",
    "- 可以不依照參數的順序"
   ]
  },
  {
   "cell_type": "code",
   "execution_count": 3,
   "id": "2052f5a7",
   "metadata": {},
   "outputs": [],
   "source": [
    "def menu(wine, entree, dessert):\n",
    "    print(f\"前酒:{wine}\")\n",
    "    print(f\"主餐:{entree}\")\n",
    "    print(f'甜點:{dessert}')"
   ]
  },
  {
   "cell_type": "code",
   "execution_count": 7,
   "id": "64328535",
   "metadata": {},
   "outputs": [
    {
     "name": "stdout",
     "output_type": "stream",
     "text": [
      "前酒:白酒\n",
      "主餐:牛排\n",
      "甜點:蛋糕\n"
     ]
    }
   ],
   "source": [
    "menu(wine='白酒',entree='牛排',dessert='蛋糕')"
   ]
  },
  {
   "cell_type": "code",
   "execution_count": 6,
   "id": "cf2a5732",
   "metadata": {},
   "outputs": [
    {
     "name": "stdout",
     "output_type": "stream",
     "text": [
      "前酒:白酒\n",
      "主餐:牛排\n",
      "甜點:蛋糕\n"
     ]
    }
   ],
   "source": [
    "menu(entree='牛排',dessert='蛋糕',wine='白酒')"
   ]
  },
  {
   "cell_type": "markdown",
   "id": "e36b713b",
   "metadata": {},
   "source": [
    "### 混合呼叫\n",
    "- 前面一定先用引數值(位置),後面引數名稱呼叫\n",
    "- 使用引數名稱呼叫後,後面全部要使用引數名稱呼叫"
   ]
  },
  {
   "cell_type": "code",
   "execution_count": 8,
   "id": "2fe18ac7",
   "metadata": {},
   "outputs": [],
   "source": [
    "def menu(wine, entree, dessert):\n",
    "    print(f\"前酒:{wine}\")\n",
    "    print(f\"主餐:{entree}\")\n",
    "    print(f'甜點:{dessert}')"
   ]
  },
  {
   "cell_type": "code",
   "execution_count": 9,
   "id": "e283644b",
   "metadata": {},
   "outputs": [
    {
     "name": "stdout",
     "output_type": "stream",
     "text": [
      "前酒:白酒\n",
      "主餐:牛排\n",
      "甜點:蛋糕\n"
     ]
    }
   ],
   "source": [
    "menu('白酒',entree='牛排',dessert='蛋糕')"
   ]
  },
  {
   "cell_type": "code",
   "execution_count": 10,
   "id": "50c1e5de",
   "metadata": {},
   "outputs": [
    {
     "name": "stdout",
     "output_type": "stream",
     "text": [
      "前酒:白酒\n",
      "主餐:牛排\n",
      "甜點:蛋糕\n"
     ]
    }
   ],
   "source": [
    "menu('白酒',dessert='蛋糕',entree='牛排')"
   ]
  },
  {
   "cell_type": "markdown",
   "id": "a6974276",
   "metadata": {},
   "source": [
    "### 定義參數時,指定參數的預設值\n",
    "- 有預設值的參數,一定要定義在最後面"
   ]
  },
  {
   "cell_type": "code",
   "execution_count": 14,
   "id": "969ecd95",
   "metadata": {},
   "outputs": [],
   "source": [
    "def menu(wine, entree, dessert='奶昔'):\n",
    "    print(f\"前酒:{wine}\")\n",
    "    print(f\"主餐:{entree}\")\n",
    "    print(f'甜點:{dessert}')"
   ]
  },
  {
   "cell_type": "markdown",
   "id": "45aafc0f",
   "metadata": {},
   "source": [
    "### 呼叫時可以省略有預設值的參數"
   ]
  },
  {
   "cell_type": "code",
   "execution_count": 12,
   "id": "0570ae93",
   "metadata": {},
   "outputs": [
    {
     "name": "stdout",
     "output_type": "stream",
     "text": [
      "前酒:紅酒\n",
      "主餐:牛排\n",
      "甜點:奶昔\n"
     ]
    }
   ],
   "source": [
    "menu('紅酒','牛排')"
   ]
  },
  {
   "cell_type": "markdown",
   "id": "4d508df2",
   "metadata": {},
   "source": [
    "### 呼叫時可以取代有預設值的參數"
   ]
  },
  {
   "cell_type": "code",
   "execution_count": 13,
   "id": "ddf43308",
   "metadata": {},
   "outputs": [
    {
     "name": "stdout",
     "output_type": "stream",
     "text": [
      "前酒:紅酒\n",
      "主餐:牛排\n",
      "甜點:蛋糕\n"
     ]
    }
   ],
   "source": [
    "menu('紅酒','牛排',dessert='蛋糕')"
   ]
  },
  {
   "cell_type": "markdown",
   "id": "a9f3c2dd",
   "metadata": {},
   "source": [
    "### *參數名稱\n",
    "- 沒有限定數量的引數值的呼叫,也可以0個引數值\n",
    "- 大部份有前面\n",
    "- 參數名稱可以任意名稱"
   ]
  },
  {
   "cell_type": "code",
   "execution_count": 16,
   "id": "10fc0da8",
   "metadata": {},
   "outputs": [],
   "source": [
    "def print_args(*args):\n",
    "    #args是tuple\n",
    "    print(args)"
   ]
  },
  {
   "cell_type": "code",
   "execution_count": 15,
   "id": "3bb15faa",
   "metadata": {},
   "outputs": [
    {
     "data": {
      "text/plain": [
       "(1, 3, 5, 7, 9)"
      ]
     },
     "execution_count": 15,
     "metadata": {},
     "output_type": "execute_result"
    }
   ],
   "source": [
    "#tuple是把一組數值包在一起,使用小括號()\n",
    "(1, 3, 5, 7, 9)"
   ]
  },
  {
   "cell_type": "code",
   "execution_count": 17,
   "id": "6b6c1459",
   "metadata": {},
   "outputs": [
    {
     "name": "stdout",
     "output_type": "stream",
     "text": [
      "('a', 'b', 'c', 1, 2, 3, True, False)\n"
     ]
    }
   ],
   "source": [
    "print_args('a', 'b', 'c', 1, 2, 3,True,False)"
   ]
  },
  {
   "cell_type": "markdown",
   "id": "5072f3a6",
   "metadata": {},
   "source": [
    "### **參數名稱\n",
    "- 大部份放在最後面\n",
    "- 沒有限定數量的`引數名稱`呼叫,沒有限定數量代表可以0個\n",
    "- 參數名稱可以任意名稱"
   ]
  },
  {
   "cell_type": "code",
   "execution_count": 20,
   "id": "e59ebffc",
   "metadata": {},
   "outputs": [],
   "source": [
    "def print_kwargs(**kwargs):\n",
    "    #kwargs是dictionary\n",
    "    print(kwargs)"
   ]
  },
  {
   "cell_type": "code",
   "execution_count": 21,
   "id": "bfe4d49f",
   "metadata": {},
   "outputs": [
    {
     "name": "stdout",
     "output_type": "stream",
     "text": [
      "{'one': 1, 'two': 2, 'three': 3, 'four': 4, 'five': 5}\n"
     ]
    }
   ],
   "source": [
    "print_kwargs(one=1,two=2,three=3,four=4,five=5)"
   ]
  },
  {
   "cell_type": "markdown",
   "id": "c75dc240",
   "metadata": {},
   "source": [
    "### 混合*args,**kwargs"
   ]
  },
  {
   "cell_type": "code",
   "execution_count": 22,
   "id": "ea132ee6",
   "metadata": {},
   "outputs": [],
   "source": [
    "def print_mixed(*args, **kwargs):\n",
    "    print(args)\n",
    "    print(kwargs)\n"
   ]
  },
  {
   "cell_type": "code",
   "execution_count": 23,
   "id": "97419400",
   "metadata": {},
   "outputs": [
    {
     "name": "stdout",
     "output_type": "stream",
     "text": [
      "('a', 'b', 1, 2, True, False)\n",
      "{'one': 1, 'two': 2, 'three': 3, 'four': 4}\n"
     ]
    }
   ],
   "source": [
    "print_mixed('a', 'b', 1, 2, True, False,\n",
    "            one=1,\n",
    "            two=2,\n",
    "            three=3,\n",
    "            four=4)"
   ]
  }
 ],
 "metadata": {
  "kernelspec": {
   "display_name": "base",
   "language": "python",
   "name": "python3"
  },
  "language_info": {
   "codemirror_mode": {
    "name": "ipython",
    "version": 3
   },
   "file_extension": ".py",
   "mimetype": "text/x-python",
   "name": "python",
   "nbconvert_exporter": "python",
   "pygments_lexer": "ipython3",
   "version": "3.12.9"
  }
 },
 "nbformat": 4,
 "nbformat_minor": 5
}
