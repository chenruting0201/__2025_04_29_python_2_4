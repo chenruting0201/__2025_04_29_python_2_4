{
 "cells": [
  {
   "cell_type": "markdown",
   "id": "d30181cf",
   "metadata": {},
   "source": [
    "```python\n",
    "print(*objects, sep=' ', end='\\n', file=None, flush=False)\n",
    "```"
   ]
  },
  {
   "cell_type": "code",
   "execution_count": null,
   "id": "4e5d9a64",
   "metadata": {},
   "outputs": [
    {
     "ename": "SyntaxError",
     "evalue": "incomplete input (1146909174.py, line 1)",
     "output_type": "error",
     "traceback": [
      "  \u001b[36mCell\u001b[39m\u001b[36m \u001b[39m\u001b[32mIn[1]\u001b[39m\u001b[32m, line 1\u001b[39m\n\u001b[31m    \u001b[39m\u001b[31mprint(1, 3, 5, 'a', 'b', 'c',end='結束\\n'\u001b[39m\n                                           ^\n\u001b[31mSyntaxError\u001b[39m\u001b[31m:\u001b[39m incomplete input\n"
     ]
    }
   ],
   "source": [
    "print(1, 3, 5, 'a', 'b', 'c',end='結束\\n')"
   ]
  },
  {
   "cell_type": "code",
   "execution_count": null,
   "id": "7f97dd14",
   "metadata": {},
   "outputs": [
    {
     "name": "stdout",
     "output_type": "stream",
     "text": [
      "1-3-5-a-b-c結束\n"
     ]
    }
   ],
   "source": [
    "print(1, 3, 5, 'a', 'b', 'c',end='結束\\n',sep='-')"
   ]
  }
 ],
 "metadata": {
  "kernelspec": {
   "display_name": "base",
   "language": "python",
   "name": "python3"
  },
  "language_info": {
   "codemirror_mode": {
    "name": "ipython",
    "version": 3
   },
   "file_extension": ".py",
   "mimetype": "text/x-python",
   "name": "python",
   "nbconvert_exporter": "python",
   "pygments_lexer": "ipython3",
   "version": "3.12.9"
  }
 },
 "nbformat": 4,
 "nbformat_minor": 5
}
